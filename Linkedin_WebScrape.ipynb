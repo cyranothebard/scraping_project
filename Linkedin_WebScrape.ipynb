{
 "cells": [
  {
   "cell_type": "code",
   "execution_count": null,
   "metadata": {
    "collapsed": true
   },
   "outputs": [],
   "source": [
    "import requests\n",
    "import time\n",
    "\n",
    "from selenium import webdriver\n",
    "from selenium.webdriver import ActionChains\n",
    "from selenium.webdriver.common.keys import Keys\n",
    "from bs4 import BeautifulSoup\n",
    "import pandas as pd"
   ]
  },
  {
   "cell_type": "code",
   "execution_count": null,
   "metadata": {
    "collapsed": true
   },
   "outputs": [],
   "source": [
    "def scrape_linkedin(job, city):\n",
    "    driver = webdriver.Chrome()\n",
    "    base_url=\"https://linkedin.com/jobs/search?keywords=\"\n",
    "    job=job.replace(\" \", \"%20\").strip()\n",
    "    city=city.replace(\" \", \"%20\").strip()\n",
    "    url = f\"https://www.linkedin.com/jobs/search?keywords={job}&location={city}\"\n",
    "    driver.get(url)\n",
    "    counter = 0\n",
    "    while True:\n",
    "        try:\n",
    "            click_me = driver.find_element_by_xpath('/html/body/main/section[1]/button')\n",
    "            time.sleep(2)\n",
    "            click_me.click()\n",
    "            counter += 1\n",
    "            if counter == 40:\n",
    "                break\n",
    "        except Exception as e:\n",
    "            break\n",
    "    my_var = driver.find_elements_by_class_name('result-card__full-card-link')\n",
    "    \n",
    "    driver2 = webdriver.Chrome()\n",
    "    position_list = []\n",
    "    company_list = []\n",
    "    location_list = []\n",
    "    description = []\n",
    "    num_success = 0\n",
    "    for counter, x in enumerate(my_var):\n",
    "        if counter % 50 == 0:\n",
    "            print(f'Trying job number {counter} out of {len(my_var)}')\n",
    "            print(f'{num_success} out of {counter} successful')\n",
    "        driver2.get(x.get_attribute('href'))\n",
    "        time.sleep(1)\n",
    "        my_html = driver2.page_source\n",
    "        soup = BeautifulSoup(my_html, 'html.parser')\n",
    "        soup.find('div', class_ = 'topcard__content-left')\n",
    "        try:\n",
    "            position = soup.find('div', class_ = 'topcard__content-left').find('h1', class_ = 'topcard__title').text\n",
    "        except:\n",
    "            continue\n",
    "        job_titles = ['data scientist', 'data engineer', 'data analyst', 'machine learning']\n",
    "        good_job = False\n",
    "        for x in job_titles:\n",
    "            if x in position.lower():\n",
    "                good_job = True\n",
    "                break\n",
    "        if good_job == True:\n",
    "            try:\n",
    "                position_list.append(position)\n",
    "                company = soup.find('div', class_ = 'topcard__content-left').find('a').text\n",
    "                company_list.append(company)\n",
    "                location = soup.find('div', class_ = 'topcard__content-left').find('span', class_ = 'topcard__flavor topcard__flavor--bullet').text\n",
    "                location_list.append(location)\n",
    "                decr = driver2.find_element_by_class_name('description__text').text\n",
    "                description.append(decr)\n",
    "                num_success += 1\n",
    "            except AttributeError:\n",
    "                position_list.pop()\n",
    "                continue\n",
    "        time.sleep(2)\n",
    "    driver.quit()\n",
    "    driver2.quit()\n",
    "    df = pd.DataFrame({'position': position_list,\n",
    "                  'company': company_list,\n",
    "                  'location': location_list,\n",
    "                 'description': description})\n",
    "    time.sleep(60)\n",
    "    return df"
   ]
  },
  {
   "cell_type": "code",
   "execution_count": null,
   "metadata": {
    "collapsed": true
   },
   "outputs": [],
   "source": [
    "%%time\n",
    "position = ['data scientist','data engineer', 'data analyst', 'machine learning engineer']\n",
    "cities = ['chicago, il']\n",
    "for city in cities:\n",
    "    for pos in position:\n",
    "        print(f'Starting {city} {pos}')\n",
    "        df = scrape_linkedin(pos, city)\n",
    "        df.to_csv(f'df_{city}_{pos}.csv', index = False)\n",
    "        print(f'{city} {pos} complete')"
   ]
  }
 ],
 "metadata": {
  "kernelspec": {
   "display_name": "Python 3",
   "language": "python",
   "name": "python3"
  },
  "language_info": {
   "codemirror_mode": {
    "name": "ipython",
    "version": 3
   },
   "file_extension": ".py",
   "mimetype": "text/x-python",
   "name": "python",
   "nbconvert_exporter": "python",
   "pygments_lexer": "ipython3",
   "version": "3.6.5"
  }
 },
 "nbformat": 4,
 "nbformat_minor": 2
}
